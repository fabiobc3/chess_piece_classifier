{
  "nbformat": 4,
  "nbformat_minor": 0,
  "metadata": {
    "colab": {
      "name": "PieceClassifier.ipynb",
      "provenance": [],
      "collapsed_sections": [
        "Cv7AHp1ybrNE"
      ]
    },
    "kernelspec": {
      "name": "python3",
      "display_name": "Python 3"
    },
    "language_info": {
      "name": "python"
    }
  },
  "cells": [
    {
      "cell_type": "markdown",
      "source": [
        "# Classifies Chess Pieces"
      ],
      "metadata": {
        "id": "H9eQ66DKlYLy"
      }
    },
    {
      "cell_type": "markdown",
      "source": [
        "#Imports"
      ],
      "metadata": {
        "id": "DMeZ6ypslVn2"
      }
    },
    {
      "cell_type": "code",
      "execution_count": null,
      "metadata": {
        "id": "tIDOn8EY0neI",
        "colab": {
          "base_uri": "https://localhost:8080/"
        },
        "outputId": "e9cb5dc1-8abc-47f9-c22c-f28c7e95b31f"
      },
      "outputs": [
        {
          "output_type": "stream",
          "name": "stdout",
          "text": [
            "TensorFlow 1.x selected.\n",
            "Mounted at /content/drive\n"
          ]
        }
      ],
      "source": [
        "import torch\n",
        "from torch.utils.data import Dataset\n",
        "from torchvision import datasets\n",
        "from torchvision.transforms import ToTensor\n",
        "import matplotlib.pyplot as plt\n",
        "import torchvision.transforms as transforms\n",
        "from torch.utils.data import DataLoader\n",
        "from PIL import Image\n",
        "from google.colab.patches import cv2_imshow\n",
        "%tensorflow_version 1.x\n",
        "import torchvision.models as models\n",
        "import pandas as pd\n",
        "import numpy as np\n",
        "from torch.utils.data import DataLoader\n",
        "from torch.utils.data import Dataset\n",
        "from PIL import Image\n",
        "import torchvision.models as models\n",
        "import torch\n",
        "from collections import OrderedDict\n",
        "\n",
        "from google.colab import drive\n",
        "drive.mount('/content/drive')"
      ]
    },
    {
      "cell_type": "markdown",
      "source": [
        "# Dataset\n"
      ],
      "metadata": {
        "id": "r1anmTTWehd9"
      }
    },
    {
      "cell_type": "markdown",
      "source": [
        "#### Get Dataset"
      ],
      "metadata": {
        "id": "ZkgQyHdqj0-d"
      }
    },
    {
      "cell_type": "markdown",
      "source": [
        "##### Turk Data"
      ],
      "metadata": {
        "id": "Cv7AHp1ybrNE"
      }
    },
    {
      "cell_type": "code",
      "source": [
        "foldername = \"/content/drive/MyDrive/turk_data/data_done/\"\n",
        "dataset = pd.read_csv(foldername + 'my_csv.csv', names=['id','piece'])"
      ],
      "metadata": {
        "id": "8UDbmJ9fVWZC"
      },
      "execution_count": null,
      "outputs": []
    },
    {
      "cell_type": "markdown",
      "source": [
        "##### Realsense"
      ],
      "metadata": {
        "id": "flpB3jmZbxBw"
      }
    },
    {
      "cell_type": "code",
      "source": [
        "foldername = \"/content/drive/MyDrive/cv_chess_data/realsense_dataset0/\"\n",
        "dataset = pd.read_csv(foldername + 'my_csv.csv', names=['id','piece'])"
      ],
      "metadata": {
        "id": "RXIcAwE-j0Y6"
      },
      "execution_count": null,
      "outputs": []
    },
    {
      "cell_type": "code",
      "source": [
        "dataset.iloc[911]"
      ],
      "metadata": {
        "colab": {
          "base_uri": "https://localhost:8080/"
        },
        "id": "oVR8fiX9pz-K",
        "outputId": "fd319189-6916-48b8-a69b-388340e0fd7c"
      },
      "execution_count": null,
      "outputs": [
        {
          "output_type": "execute_result",
          "data": {
            "text/plain": [
              "id       f3067428159.jpg\n",
              "piece                  0\n",
              "Name: 911, dtype: object"
            ]
          },
          "metadata": {},
          "execution_count": 140
        }
      ]
    },
    {
      "cell_type": "code",
      "source": [
        "from torch.utils import data\n",
        "dataset = dataset.drop([0,1, 911])\n",
        "x = dataset.to_numpy()\n",
        "for i in range(len(x)):\n",
        "  x[i, 1] = int(x[i, 1])\n",
        "dataset = pd.DataFrame(x, columns=['id','piece'])"
      ],
      "metadata": {
        "id": "z6QBDKjxVKLB"
      },
      "execution_count": null,
      "outputs": []
    },
    {
      "cell_type": "markdown",
      "source": [
        "#### Label Mapping"
      ],
      "metadata": {
        "id": "S0ooo4HmsebP"
      }
    },
    {
      "cell_type": "code",
      "source": [
        "piece_num_to_name = {\n",
        "      0 : 'Empty',\n",
        "      1 : 'Pawn',\n",
        "      2 : 'Bishop',\n",
        "      3 : 'Knight',\n",
        "      4 : 'Rook',\n",
        "      5 : 'Queen',\n",
        "      6 : 'King'\n",
        "}"
      ],
      "metadata": {
        "id": "W_i5ImxjsgQo"
      },
      "execution_count": null,
      "outputs": []
    },
    {
      "cell_type": "markdown",
      "source": [
        "#### Makes the dataset uniform"
      ],
      "metadata": {
        "id": "y59LSK2ltuBZ"
      }
    },
    {
      "cell_type": "code",
      "source": [
        "def uniform(dataframe):\n",
        "  dic = {}\n",
        "  df = dataframe.sample(frac=1)\n",
        "  for i in df['piece']:\n",
        "    if i not in dic:\n",
        "      dic[i] = dic.get(i, 0)\n",
        "    else:\n",
        "      dic[i] += 1\n",
        "  min_key = min(dic, key=dic.get)\n",
        "  minimum = dic.get(min_key)\n",
        "  dic2 = {}\n",
        "  new = pd.DataFrame(columns = ['id', 'piece'])\n",
        "  for j in df['piece']:\n",
        "    if j not in dic2:\n",
        "      pholder = df.loc[df['piece']==j]\n",
        "      pholder = pholder[:minimum]\n",
        "      new = pd.concat([new,pholder], ignore_index=True)\n",
        "      dic2[j] = dic2.get(j,0)\n",
        "  return new\n",
        "\n",
        "dataset = uniform(dataset)"
      ],
      "metadata": {
        "id": "5du1GElkty1b"
      },
      "execution_count": null,
      "outputs": []
    },
    {
      "cell_type": "markdown",
      "source": [
        "#### Split Dataset Into Train, Validation, Test"
      ],
      "metadata": {
        "id": "_btmqt7Cj7VW"
      }
    },
    {
      "cell_type": "code",
      "source": [
        "np.random.seed(123)\n",
        "\n",
        "\n",
        "def data_split(N, ratio=[7, 2, 1]):\n",
        "  shuffle_idx = np.arange(N)\n",
        "  np.random.shuffle(shuffle_idx)\n",
        "  data_split = (np.cumsum(ratio)/float(sum(ratio))*N).astype(int)\n",
        "  out_idx = [None] * len(ratio)\n",
        "  out_idx[0] = shuffle_idx[:data_split[0]]\n",
        "  for i in range(1,len(ratio)):\n",
        "    out_idx[i] = shuffle_idx[data_split[i-1] : data_split[i]]\n",
        "  return out_idx  \n",
        "\n",
        "\n",
        "split_idx = data_split(len(dataset))\n",
        "df_train = dataset.loc[split_idx[0]]\n",
        "df_valid = dataset.loc[split_idx[1]]\n",
        "df_test = dataset.loc[split_idx[2]]"
      ],
      "metadata": {
        "id": "RettlkNL1wcj"
      },
      "execution_count": null,
      "outputs": []
    },
    {
      "cell_type": "markdown",
      "source": [
        "#### Create a Dataloader for each dataset"
      ],
      "metadata": {
        "id": "_rc_FezrkLVy"
      }
    },
    {
      "cell_type": "code",
      "source": [
        "class ChessDataset(Dataset):\n",
        "    def __init__(self, root_dir, df, transforms=None):\n",
        "        self.root_dir = root_dir\n",
        "        self.df = df\n",
        "        self.file_names = df['id'].values\n",
        "        self.targets = df['piece'].values\n",
        "        self.transforms = transforms\n",
        "    def __len__(self):\n",
        "        return len(self.df)\n",
        "    def __getitem__(self, index):\n",
        "        img_path = self.root_dir + self.file_names[index]\n",
        "        img = Image.open(img_path)\n",
        "        if self.transforms:\n",
        "            img = self.transforms(img)\n",
        "        target = self.targets[index]\n",
        "        return img, target\n",
        "\n",
        "\n",
        "transform_train = transforms.Compose([\n",
        "    transforms.Resize(256),\n",
        "    transforms.RandomCrop(224),\n",
        "    transforms.RandomHorizontalFlip(),\n",
        "    transforms.ToTensor(),\n",
        "    transforms.Grayscale(3)\n",
        "    # transforms.Normalize([0.485, 0.456, 0.406], [0.229, 0.224, 0.225])\n",
        "])\n",
        "transform_test = transforms.Compose([\n",
        "    transforms.Resize(256),\n",
        "    transforms.CenterCrop(224),\n",
        "    transforms.ToTensor(),\n",
        "    transforms.Grayscale(3)\n",
        "    # transforms.Normalize([0.485, 0.456, 0.406], [0.229, 0.224, 0.225])\n",
        "])\n",
        "\n",
        "\n",
        "train_dataset = ChessDataset(foldername, df_train, transforms=transform_train)\n",
        "valid_dataset = ChessDataset(foldername, df_valid, transforms=transform_test)\n",
        "test_dataset = ChessDataset(foldername, df_test, transforms=transform_test)\n",
        "\n",
        "\n",
        "train_loader = torch.utils.data.DataLoader(train_dataset, batch_size=8, shuffle=True)\n",
        "valid_loader = torch.utils.data.DataLoader(valid_dataset, batch_size=8, shuffle=True)\n",
        "test_loader = torch.utils.data.DataLoader(test_dataset, batch_size=8, shuffle=True)  "
      ],
      "metadata": {
        "id": "oZmMm2pJkRKo"
      },
      "execution_count": null,
      "outputs": []
    },
    {
      "cell_type": "code",
      "source": [
        "x = train_dataset[5][0]\n",
        "\n",
        "plt.imshow(x.permute(1, 2, 0))\n"
      ],
      "metadata": {
        "colab": {
          "base_uri": "https://localhost:8080/",
          "height": 287
        },
        "id": "dLT59OmMK21J",
        "outputId": "4592f224-595f-41e6-ce8b-5d13e63da050"
      },
      "execution_count": null,
      "outputs": [
        {
          "output_type": "execute_result",
          "data": {
            "text/plain": [
              "<matplotlib.image.AxesImage at 0x7f804647cf90>"
            ]
          },
          "metadata": {},
          "execution_count": 148
        },
        {
          "output_type": "display_data",
          "data": {
            "image/png": "[encoded data removed]",
            "text/plain": [
              "<Figure size 432x288 with 1 Axes>"
            ]
          },
          "metadata": {
            "needs_background": "light"
          }
        }
      ]
    },
    {
      "cell_type": "markdown",
      "source": [
        "# Model"
      ],
      "metadata": {
        "id": "lcuz17ZDeXHC"
      }
    },
    {
      "cell_type": "markdown",
      "source": [
        "#### Creates a Model"
      ],
      "metadata": {
        "id": "A0N1_0WGmXtJ"
      }
    },
    {
      "cell_type": "code",
      "source": [
        "model = models.vgg16()\n",
        "classifier = torch.nn.Sequential(OrderedDict([('fc1', torch.nn.Linear(25088, 5000)),\n",
        "                                        ('relu', torch.nn.ReLU()),\n",
        "                                        ('drop', torch.nn.Dropout(p=0.5)),\n",
        "                                        ('fc2', torch.nn.Linear(5000, 7)),\n",
        "                                        ('output', torch.nn.LogSoftmax(dim=1))]))\n",
        "model.classifier = classifier"
      ],
      "metadata": {
        "id": "6G9_smkXmbd3"
      },
      "execution_count": null,
      "outputs": []
    },
    {
      "cell_type": "markdown",
      "source": [
        "#### Sets up GPU or CPU"
      ],
      "metadata": {
        "id": "Wd0hhnvMnWXC"
      }
    },
    {
      "cell_type": "code",
      "source": [
        "device = 'cuda' if torch.cuda.is_available() else 'cpu'\n",
        "# device = 'cpu'\n",
        "print(f'Using {device} device')"
      ],
      "metadata": {
        "id": "tCX1wm2xm_BY",
        "colab": {
          "base_uri": "https://localhost:8080/"
        },
        "outputId": "a5f0a909-5e0c-453e-ed81-04eb3f9ef06b"
      },
      "execution_count": null,
      "outputs": [
        {
          "output_type": "stream",
          "name": "stdout",
          "text": [
            "Using cpu device\n"
          ]
        }
      ]
    },
    {
      "cell_type": "markdown",
      "source": [
        "#### Optimizer and Loss"
      ],
      "metadata": {
        "id": "1_jio_fNm0UF"
      }
    },
    {
      "cell_type": "code",
      "source": [
        "criterion = torch.nn.NLLLoss()\n",
        "optimizer = torch.optim.SGD(model.parameters(), lr=.001, momentum=0.9)\n",
        "model.to(device)"
      ],
      "metadata": {
        "id": "lsy2pdnEnzl0"
      },
      "execution_count": null,
      "outputs": []
    },
    {
      "cell_type": "markdown",
      "source": [
        "#### Fuction for Validation Pass"
      ],
      "metadata": {
        "id": "O0-zhL-1mn_D"
      }
    },
    {
      "cell_type": "code",
      "source": [
        "def validation(model, validateloader, criterion):    \n",
        "    val_loss = 0\n",
        "    accuracy = 0\n",
        "    for images, labels in iter(validateloader):\n",
        "        images, labels = images.to(device), labels.to(device)\n",
        "        output = model.forward(images)\n",
        "        val_loss += criterion(output, labels).item()\n",
        "        probabilities = torch.exp(output)\n",
        "        equality = (labels.data == probabilities.max(dim=1)[1])\n",
        "        accuracy += equality.type(torch.FloatTensor).mean()\n",
        "    return val_loss, accuracy"
      ],
      "metadata": {
        "id": "k9XvKMxg3Erz"
      },
      "execution_count": null,
      "outputs": []
    },
    {
      "cell_type": "markdown",
      "source": [
        "#### Training the classifier"
      ],
      "metadata": {
        "id": "2WGd1A-ooO3A"
      }
    },
    {
      "cell_type": "code",
      "source": [
        "def train_classifier():\n",
        "        \n",
        "        epochs = 30\n",
        "        steps = 0\n",
        "        print_every = 1\n",
        "        model.to(device)\n",
        "        for e in range(epochs):\n",
        "            model.train()\n",
        "            running_loss = 0\n",
        "            for images, labels in iter(train_loader):\n",
        "                steps += 1\n",
        "                images, labels = images.to(device), labels.to(device)\n",
        "                optimizer.zero_grad()\n",
        "                output = model.forward(images)\n",
        "                loss = criterion(output, labels)\n",
        "                loss.backward()\n",
        "                optimizer.step()\n",
        "                running_loss += loss.item()\n",
        "                if steps % print_every == 0:\n",
        "                    model.eval()\n",
        "                \n",
        "                    # Turn off gradients for validation, saves memory and computations\n",
        "                    with torch.no_grad():\n",
        "                        validation_loss, accuracy = validation(model, valid_loader, criterion)\n",
        "            \n",
        "                    print(\"Epoch: {}/{}.. \".format(e+1, epochs),\n",
        "                          \"Training Loss: {:.3f}.. \".format(running_loss/print_every),\n",
        "                          \"Validation Loss: {:.3f}.. \".format(validation_loss/len(valid_loader)),\n",
        "                          \"Validation Accuracy: {:.3f}\".format(accuracy/len(valid_loader)))\n",
        "            \n",
        "                    running_loss = 0\n",
        "                    model.train()\n",
        "                    \n",
        "train_classifier()                    "
      ],
      "metadata": {
        "id": "FIh46DSPMzRt",
        "colab": {
          "base_uri": "https://localhost:8080/"
        },
        "outputId": "e8c090a9-caec-485e-bf32-95f14a965098"
      },
      "execution_count": null,
      "outputs": [
        {
          "output_type": "stream",
          "name": "stdout",
          "text": [
            "Epoch: 1/15..  Training Loss: 1.947..  Validation Loss: 1.945..  Validation Accuracy: 0.200\n",
            "Epoch: 1/15..  Training Loss: 1.944..  Validation Loss: 1.945..  Validation Accuracy: 0.212\n",
            "Epoch: 1/15..  Training Loss: 1.955..  Validation Loss: 1.945..  Validation Accuracy: 0.200\n",
            "Epoch: 1/15..  Training Loss: 1.950..  Validation Loss: 1.946..  Validation Accuracy: 0.200\n",
            "Epoch: 1/15..  Training Loss: 1.947..  Validation Loss: 1.946..  Validation Accuracy: 0.200\n",
            "Epoch: 1/15..  Training Loss: 1.950..  Validation Loss: 1.946..  Validation Accuracy: 0.212\n",
            "Epoch: 1/15..  Training Loss: 1.943..  Validation Loss: 1.946..  Validation Accuracy: 0.192\n",
            "Epoch: 1/15..  Training Loss: 1.954..  Validation Loss: 1.946..  Validation Accuracy: 0.208\n",
            "Epoch: 1/15..  Training Loss: 1.945..  Validation Loss: 1.946..  Validation Accuracy: 0.233\n",
            "Epoch: 1/15..  Training Loss: 1.946..  Validation Loss: 1.946..  Validation Accuracy: 0.188\n",
            "Epoch: 1/15..  Training Loss: 1.945..  Validation Loss: 1.946..  Validation Accuracy: 0.221\n",
            "Epoch: 1/15..  Training Loss: 1.945..  Validation Loss: 1.945..  Validation Accuracy: 0.254\n",
            "Epoch: 1/15..  Training Loss: 1.947..  Validation Loss: 1.945..  Validation Accuracy: 0.275\n",
            "Epoch: 1/15..  Training Loss: 1.945..  Validation Loss: 1.946..  Validation Accuracy: 0.283\n",
            "Epoch: 1/15..  Training Loss: 1.949..  Validation Loss: 1.946..  Validation Accuracy: 0.221\n",
            "Epoch: 1/15..  Training Loss: 1.945..  Validation Loss: 1.946..  Validation Accuracy: 0.179\n",
            "Epoch: 1/15..  Training Loss: 1.947..  Validation Loss: 1.946..  Validation Accuracy: 0.158\n",
            "Epoch: 1/15..  Training Loss: 1.951..  Validation Loss: 1.946..  Validation Accuracy: 0.200\n",
            "Epoch: 1/15..  Training Loss: 1.947..  Validation Loss: 1.946..  Validation Accuracy: 0.179\n",
            "Epoch: 1/15..  Training Loss: 1.941..  Validation Loss: 1.946..  Validation Accuracy: 0.179\n",
            "Epoch: 2/15..  Training Loss: 1.944..  Validation Loss: 1.946..  Validation Accuracy: 0.192\n",
            "Epoch: 2/15..  Training Loss: 1.945..  Validation Loss: 1.946..  Validation Accuracy: 0.179\n",
            "Epoch: 2/15..  Training Loss: 1.945..  Validation Loss: 1.946..  Validation Accuracy: 0.188\n",
            "Epoch: 2/15..  Training Loss: 1.944..  Validation Loss: 1.946..  Validation Accuracy: 0.212\n",
            "Epoch: 2/15..  Training Loss: 1.946..  Validation Loss: 1.946..  Validation Accuracy: 0.200\n",
            "Epoch: 2/15..  Training Loss: 1.947..  Validation Loss: 1.946..  Validation Accuracy: 0.200\n",
            "Epoch: 2/15..  Training Loss: 1.942..  Validation Loss: 1.945..  Validation Accuracy: 0.200\n",
            "Epoch: 2/15..  Training Loss: 1.939..  Validation Loss: 1.946..  Validation Accuracy: 0.188\n",
            "Epoch: 2/15..  Training Loss: 1.937..  Validation Loss: 1.946..  Validation Accuracy: 0.188\n",
            "Epoch: 2/15..  Training Loss: 1.939..  Validation Loss: 1.946..  Validation Accuracy: 0.212\n",
            "Epoch: 2/15..  Training Loss: 1.935..  Validation Loss: 1.946..  Validation Accuracy: 0.146\n",
            "Epoch: 2/15..  Training Loss: 1.945..  Validation Loss: 1.947..  Validation Accuracy: 0.158\n",
            "Epoch: 2/15..  Training Loss: 1.935..  Validation Loss: 1.946..  Validation Accuracy: 0.117\n",
            "Epoch: 2/15..  Training Loss: 1.953..  Validation Loss: 1.947..  Validation Accuracy: 0.104\n",
            "Epoch: 2/15..  Training Loss: 1.941..  Validation Loss: 1.947..  Validation Accuracy: 0.138\n",
            "Epoch: 2/15..  Training Loss: 1.946..  Validation Loss: 1.947..  Validation Accuracy: 0.138\n",
            "Epoch: 2/15..  Training Loss: 1.936..  Validation Loss: 1.947..  Validation Accuracy: 0.104\n",
            "Epoch: 2/15..  Training Loss: 1.938..  Validation Loss: 1.948..  Validation Accuracy: 0.083\n",
            "Epoch: 2/15..  Training Loss: 1.942..  Validation Loss: 1.947..  Validation Accuracy: 0.083\n",
            "Epoch: 2/15..  Training Loss: 1.958..  Validation Loss: 1.948..  Validation Accuracy: 0.096\n",
            "Epoch: 3/15..  Training Loss: 1.930..  Validation Loss: 1.949..  Validation Accuracy: 0.083\n",
            "Epoch: 3/15..  Training Loss: 1.930..  Validation Loss: 1.947..  Validation Accuracy: 0.083\n",
            "Epoch: 3/15..  Training Loss: 1.942..  Validation Loss: 1.947..  Validation Accuracy: 0.096\n",
            "Epoch: 3/15..  Training Loss: 1.932..  Validation Loss: 1.947..  Validation Accuracy: 0.096\n",
            "Epoch: 3/15..  Training Loss: 1.927..  Validation Loss: 1.949..  Validation Accuracy: 0.083\n",
            "Epoch: 3/15..  Training Loss: 1.946..  Validation Loss: 1.948..  Validation Accuracy: 0.096\n",
            "Epoch: 3/15..  Training Loss: 1.927..  Validation Loss: 1.947..  Validation Accuracy: 0.096\n",
            "Epoch: 3/15..  Training Loss: 1.923..  Validation Loss: 1.946..  Validation Accuracy: 0.108\n",
            "Epoch: 3/15..  Training Loss: 1.936..  Validation Loss: 1.948..  Validation Accuracy: 0.083\n",
            "Epoch: 3/15..  Training Loss: 1.929..  Validation Loss: 1.948..  Validation Accuracy: 0.083\n",
            "Epoch: 3/15..  Training Loss: 1.977..  Validation Loss: 1.948..  Validation Accuracy: 0.083\n",
            "Epoch: 3/15..  Training Loss: 1.926..  Validation Loss: 1.950..  Validation Accuracy: 0.083\n",
            "Epoch: 3/15..  Training Loss: 1.943..  Validation Loss: 1.948..  Validation Accuracy: 0.138\n",
            "Epoch: 3/15..  Training Loss: 1.908..  Validation Loss: 1.953..  Validation Accuracy: 0.125\n",
            "Epoch: 3/15..  Training Loss: 1.929..  Validation Loss: 1.949..  Validation Accuracy: 0.138\n",
            "Epoch: 3/15..  Training Loss: 1.939..  Validation Loss: 1.948..  Validation Accuracy: 0.138\n",
            "Epoch: 3/15..  Training Loss: 1.943..  Validation Loss: 1.946..  Validation Accuracy: 0.150\n",
            "Epoch: 3/15..  Training Loss: 1.945..  Validation Loss: 1.949..  Validation Accuracy: 0.125\n",
            "Epoch: 3/15..  Training Loss: 1.894..  Validation Loss: 1.949..  Validation Accuracy: 0.096\n",
            "Epoch: 3/15..  Training Loss: 1.948..  Validation Loss: 1.947..  Validation Accuracy: 0.117\n",
            "Epoch: 4/15..  Training Loss: 1.901..  Validation Loss: 1.946..  Validation Accuracy: 0.117\n",
            "Epoch: 4/15..  Training Loss: 1.944..  Validation Loss: 1.947..  Validation Accuracy: 0.104\n",
            "Epoch: 4/15..  Training Loss: 1.910..  Validation Loss: 1.945..  Validation Accuracy: 0.129\n",
            "Epoch: 4/15..  Training Loss: 1.905..  Validation Loss: 1.949..  Validation Accuracy: 0.104\n",
            "Epoch: 4/15..  Training Loss: 1.946..  Validation Loss: 1.947..  Validation Accuracy: 0.104\n",
            "Epoch: 4/15..  Training Loss: 1.935..  Validation Loss: 1.949..  Validation Accuracy: 0.104\n",
            "Epoch: 4/15..  Training Loss: 1.850..  Validation Loss: 1.949..  Validation Accuracy: 0.104\n",
            "Epoch: 4/15..  Training Loss: 1.921..  Validation Loss: 1.949..  Validation Accuracy: 0.104\n",
            "Epoch: 4/15..  Training Loss: 1.847..  Validation Loss: 1.947..  Validation Accuracy: 0.117\n",
            "Epoch: 4/15..  Training Loss: 2.027..  Validation Loss: 1.952..  Validation Accuracy: 0.117\n",
            "Epoch: 4/15..  Training Loss: 1.929..  Validation Loss: 1.959..  Validation Accuracy: 0.104\n",
            "Epoch: 4/15..  Training Loss: 1.871..  Validation Loss: 1.957..  Validation Accuracy: 0.117\n",
            "Epoch: 4/15..  Training Loss: 1.949..  Validation Loss: 1.960..  Validation Accuracy: 0.117\n",
            "Epoch: 4/15..  Training Loss: 1.929..  Validation Loss: 1.955..  Validation Accuracy: 0.117\n",
            "Epoch: 4/15..  Training Loss: 1.880..  Validation Loss: 1.966..  Validation Accuracy: 0.104\n",
            "Epoch: 4/15..  Training Loss: 1.986..  Validation Loss: 1.958..  Validation Accuracy: 0.104\n",
            "Epoch: 4/15..  Training Loss: 1.925..  Validation Loss: 1.963..  Validation Accuracy: 0.104\n",
            "Epoch: 4/15..  Training Loss: 2.028..  Validation Loss: 1.960..  Validation Accuracy: 0.104\n",
            "Epoch: 4/15..  Training Loss: 2.004..  Validation Loss: 1.958..  Validation Accuracy: 0.117\n",
            "Epoch: 4/15..  Training Loss: 1.929..  Validation Loss: 1.950..  Validation Accuracy: 0.117\n",
            "Epoch: 5/15..  Training Loss: 1.929..  Validation Loss: 1.948..  Validation Accuracy: 0.104\n",
            "Epoch: 5/15..  Training Loss: 1.894..  Validation Loss: 1.950..  Validation Accuracy: 0.104\n",
            "Epoch: 5/15..  Training Loss: 1.882..  Validation Loss: 1.947..  Validation Accuracy: 0.117\n",
            "Epoch: 5/15..  Training Loss: 1.891..  Validation Loss: 1.950..  Validation Accuracy: 0.104\n",
            "Epoch: 5/15..  Training Loss: 1.836..  Validation Loss: 1.949..  Validation Accuracy: 0.104\n",
            "Epoch: 5/15..  Training Loss: 1.875..  Validation Loss: 1.955..  Validation Accuracy: 0.129\n",
            "Epoch: 5/15..  Training Loss: 1.941..  Validation Loss: 1.960..  Validation Accuracy: 0.104\n",
            "Epoch: 5/15..  Training Loss: 1.977..  Validation Loss: 1.968..  Validation Accuracy: 0.104\n",
            "Epoch: 5/15..  Training Loss: 1.851..  Validation Loss: 1.957..  Validation Accuracy: 0.083\n",
            "Epoch: 5/15..  Training Loss: 1.982..  Validation Loss: 1.947..  Validation Accuracy: 0.158\n",
            "Epoch: 5/15..  Training Loss: 1.916..  Validation Loss: 1.955..  Validation Accuracy: 0.138\n",
            "Epoch: 5/15..  Training Loss: 1.920..  Validation Loss: 1.944..  Validation Accuracy: 0.150\n",
            "Epoch: 5/15..  Training Loss: 1.913..  Validation Loss: 1.950..  Validation Accuracy: 0.117\n",
            "Epoch: 5/15..  Training Loss: 1.893..  Validation Loss: 1.947..  Validation Accuracy: 0.104\n",
            "Epoch: 5/15..  Training Loss: 1.887..  Validation Loss: 1.944..  Validation Accuracy: 0.125\n",
            "Epoch: 5/15..  Training Loss: 1.978..  Validation Loss: 1.949..  Validation Accuracy: 0.125\n",
            "Epoch: 5/15..  Training Loss: 1.916..  Validation Loss: 1.939..  Validation Accuracy: 0.158\n",
            "Epoch: 5/15..  Training Loss: 1.933..  Validation Loss: 1.942..  Validation Accuracy: 0.158\n",
            "Epoch: 5/15..  Training Loss: 1.899..  Validation Loss: 1.935..  Validation Accuracy: 0.171\n",
            "Epoch: 5/15..  Training Loss: 1.949..  Validation Loss: 1.936..  Validation Accuracy: 0.158\n",
            "Epoch: 6/15..  Training Loss: 2.001..  Validation Loss: 1.928..  Validation Accuracy: 0.171\n",
            "Epoch: 6/15..  Training Loss: 1.809..  Validation Loss: 1.926..  Validation Accuracy: 0.146\n",
            "Epoch: 6/15..  Training Loss: 1.878..  Validation Loss: 1.920..  Validation Accuracy: 0.146\n",
            "Epoch: 6/15..  Training Loss: 1.841..  Validation Loss: 1.921..  Validation Accuracy: 0.158\n",
            "Epoch: 6/15..  Training Loss: 1.871..  Validation Loss: 1.914..  Validation Accuracy: 0.296\n",
            "Epoch: 6/15..  Training Loss: 1.869..  Validation Loss: 1.922..  Validation Accuracy: 0.296\n",
            "Epoch: 6/15..  Training Loss: 1.917..  Validation Loss: 1.919..  Validation Accuracy: 0.304\n",
            "Epoch: 6/15..  Training Loss: 2.000..  Validation Loss: 1.907..  Validation Accuracy: 0.287\n",
            "Epoch: 6/15..  Training Loss: 1.935..  Validation Loss: 1.908..  Validation Accuracy: 0.263\n",
            "Epoch: 6/15..  Training Loss: 1.916..  Validation Loss: 1.920..  Validation Accuracy: 0.263\n",
            "Epoch: 6/15..  Training Loss: 1.978..  Validation Loss: 1.899..  Validation Accuracy: 0.263\n",
            "Epoch: 6/15..  Training Loss: 1.843..  Validation Loss: 1.900..  Validation Accuracy: 0.250\n",
            "Epoch: 6/15..  Training Loss: 1.912..  Validation Loss: 1.895..  Validation Accuracy: 0.263\n",
            "Epoch: 6/15..  Training Loss: 1.887..  Validation Loss: 1.890..  Validation Accuracy: 0.263\n",
            "Epoch: 6/15..  Training Loss: 1.867..  Validation Loss: 1.887..  Validation Accuracy: 0.242\n",
            "Epoch: 6/15..  Training Loss: 1.964..  Validation Loss: 1.890..  Validation Accuracy: 0.242\n",
            "Epoch: 6/15..  Training Loss: 1.897..  Validation Loss: 1.893..  Validation Accuracy: 0.212\n",
            "Epoch: 6/15..  Training Loss: 1.854..  Validation Loss: 1.899..  Validation Accuracy: 0.179\n",
            "Epoch: 6/15..  Training Loss: 1.765..  Validation Loss: 1.904..  Validation Accuracy: 0.263\n",
            "Epoch: 6/15..  Training Loss: 1.750..  Validation Loss: 1.933..  Validation Accuracy: 0.229\n",
            "Epoch: 7/15..  Training Loss: 1.807..  Validation Loss: 1.913..  Validation Accuracy: 0.158\n",
            "Epoch: 7/15..  Training Loss: 1.783..  Validation Loss: 1.955..  Validation Accuracy: 0.125\n",
            "Epoch: 7/15..  Training Loss: 1.830..  Validation Loss: 1.932..  Validation Accuracy: 0.125\n",
            "Epoch: 7/15..  Training Loss: 1.838..  Validation Loss: 1.942..  Validation Accuracy: 0.171\n",
            "Epoch: 7/15..  Training Loss: 1.733..  Validation Loss: 1.984..  Validation Accuracy: 0.129\n",
            "Epoch: 7/15..  Training Loss: 1.999..  Validation Loss: 1.982..  Validation Accuracy: 0.125\n",
            "Epoch: 7/15..  Training Loss: 1.858..  Validation Loss: 1.950..  Validation Accuracy: 0.179\n",
            "Epoch: 7/15..  Training Loss: 1.790..  Validation Loss: 1.951..  Validation Accuracy: 0.146\n",
            "Epoch: 7/15..  Training Loss: 1.807..  Validation Loss: 1.961..  Validation Accuracy: 0.125\n",
            "Epoch: 7/15..  Training Loss: 1.690..  Validation Loss: 1.993..  Validation Accuracy: 0.104\n",
            "Epoch: 7/15..  Training Loss: 2.107..  Validation Loss: 1.970..  Validation Accuracy: 0.138\n",
            "Epoch: 7/15..  Training Loss: 1.924..  Validation Loss: 1.886..  Validation Accuracy: 0.242\n",
            "Epoch: 7/15..  Training Loss: 1.785..  Validation Loss: 1.876..  Validation Accuracy: 0.350\n",
            "Epoch: 7/15..  Training Loss: 1.823..  Validation Loss: 1.843..  Validation Accuracy: 0.283\n",
            "Epoch: 7/15..  Training Loss: 1.809..  Validation Loss: 1.844..  Validation Accuracy: 0.263\n",
            "Epoch: 7/15..  Training Loss: 1.607..  Validation Loss: 1.832..  Validation Accuracy: 0.271\n",
            "Epoch: 7/15..  Training Loss: 1.814..  Validation Loss: 1.803..  Validation Accuracy: 0.304\n",
            "Epoch: 7/15..  Training Loss: 1.700..  Validation Loss: 1.791..  Validation Accuracy: 0.283\n",
            "Epoch: 7/15..  Training Loss: 1.948..  Validation Loss: 1.782..  Validation Accuracy: 0.242\n",
            "Epoch: 7/15..  Training Loss: 1.738..  Validation Loss: 1.776..  Validation Accuracy: 0.233\n",
            "Epoch: 8/15..  Training Loss: 1.818..  Validation Loss: 1.740..  Validation Accuracy: 0.258\n",
            "Epoch: 8/15..  Training Loss: 1.595..  Validation Loss: 1.770..  Validation Accuracy: 0.242\n",
            "Epoch: 8/15..  Training Loss: 1.826..  Validation Loss: 1.786..  Validation Accuracy: 0.250\n",
            "Epoch: 8/15..  Training Loss: 1.847..  Validation Loss: 1.762..  Validation Accuracy: 0.263\n",
            "Epoch: 8/15..  Training Loss: 2.118..  Validation Loss: 1.769..  Validation Accuracy: 0.283\n",
            "Epoch: 8/15..  Training Loss: 1.986..  Validation Loss: 1.766..  Validation Accuracy: 0.379\n",
            "Epoch: 8/15..  Training Loss: 1.577..  Validation Loss: 1.837..  Validation Accuracy: 0.388\n",
            "Epoch: 8/15..  Training Loss: 1.824..  Validation Loss: 1.874..  Validation Accuracy: 0.421\n",
            "Epoch: 8/15..  Training Loss: 2.424..  Validation Loss: 1.865..  Validation Accuracy: 0.408\n",
            "Epoch: 8/15..  Training Loss: 1.905..  Validation Loss: 1.821..  Validation Accuracy: 0.383\n",
            "Epoch: 8/15..  Training Loss: 1.757..  Validation Loss: 1.835..  Validation Accuracy: 0.317\n",
            "Epoch: 8/15..  Training Loss: 1.630..  Validation Loss: 1.883..  Validation Accuracy: 0.338\n",
            "Epoch: 8/15..  Training Loss: 2.090..  Validation Loss: 1.864..  Validation Accuracy: 0.325\n",
            "Epoch: 8/15..  Training Loss: 1.683..  Validation Loss: 1.897..  Validation Accuracy: 0.263\n",
            "Epoch: 8/15..  Training Loss: 1.958..  Validation Loss: 1.869..  Validation Accuracy: 0.283\n",
            "Epoch: 8/15..  Training Loss: 1.687..  Validation Loss: 1.852..  Validation Accuracy: 0.317\n",
            "Epoch: 8/15..  Training Loss: 1.587..  Validation Loss: 1.867..  Validation Accuracy: 0.358\n",
            "Epoch: 8/15..  Training Loss: 1.521..  Validation Loss: 1.901..  Validation Accuracy: 0.346\n",
            "Epoch: 8/15..  Training Loss: 1.632..  Validation Loss: 1.841..  Validation Accuracy: 0.338\n",
            "Epoch: 8/15..  Training Loss: 1.622..  Validation Loss: 1.876..  Validation Accuracy: 0.421\n",
            "Epoch: 9/15..  Training Loss: 1.792..  Validation Loss: 1.854..  Validation Accuracy: 0.404\n",
            "Epoch: 9/15..  Training Loss: 1.697..  Validation Loss: 1.885..  Validation Accuracy: 0.367\n",
            "Epoch: 9/15..  Training Loss: 2.207..  Validation Loss: 1.920..  Validation Accuracy: 0.358\n",
            "Epoch: 9/15..  Training Loss: 1.592..  Validation Loss: 1.875..  Validation Accuracy: 0.358\n",
            "Epoch: 9/15..  Training Loss: 1.608..  Validation Loss: 1.828..  Validation Accuracy: 0.383\n",
            "Epoch: 9/15..  Training Loss: 1.688..  Validation Loss: 1.872..  Validation Accuracy: 0.346\n",
            "Epoch: 9/15..  Training Loss: 1.943..  Validation Loss: 1.963..  Validation Accuracy: 0.346\n",
            "Epoch: 9/15..  Training Loss: 1.655..  Validation Loss: 1.918..  Validation Accuracy: 0.350\n",
            "Epoch: 9/15..  Training Loss: 2.012..  Validation Loss: 1.938..  Validation Accuracy: 0.338\n",
            "Epoch: 9/15..  Training Loss: 2.085..  Validation Loss: 1.943..  Validation Accuracy: 0.325\n",
            "Epoch: 9/15..  Training Loss: 1.779..  Validation Loss: 1.962..  Validation Accuracy: 0.271\n",
            "Epoch: 9/15..  Training Loss: 1.688..  Validation Loss: 1.936..  Validation Accuracy: 0.263\n",
            "Epoch: 9/15..  Training Loss: 1.551..  Validation Loss: 1.874..  Validation Accuracy: 0.275\n",
            "Epoch: 9/15..  Training Loss: 1.600..  Validation Loss: 1.864..  Validation Accuracy: 0.300\n",
            "Epoch: 9/15..  Training Loss: 1.582..  Validation Loss: 1.940..  Validation Accuracy: 0.250\n",
            "Epoch: 9/15..  Training Loss: 1.464..  Validation Loss: 1.888..  Validation Accuracy: 0.308\n",
            "Epoch: 9/15..  Training Loss: 2.088..  Validation Loss: 1.868..  Validation Accuracy: 0.292\n",
            "Epoch: 9/15..  Training Loss: 1.603..  Validation Loss: 1.789..  Validation Accuracy: 0.338\n",
            "Epoch: 9/15..  Training Loss: 1.706..  Validation Loss: 1.725..  Validation Accuracy: 0.367\n",
            "Epoch: 9/15..  Training Loss: 1.434..  Validation Loss: 1.704..  Validation Accuracy: 0.358\n",
            "Epoch: 10/15..  Training Loss: 1.310..  Validation Loss: 1.728..  Validation Accuracy: 0.287\n",
            "Epoch: 10/15..  Training Loss: 1.723..  Validation Loss: 1.846..  Validation Accuracy: 0.229\n",
            "Epoch: 10/15..  Training Loss: 1.881..  Validation Loss: 1.789..  Validation Accuracy: 0.275\n",
            "Epoch: 10/15..  Training Loss: 1.642..  Validation Loss: 1.825..  Validation Accuracy: 0.304\n",
            "Epoch: 10/15..  Training Loss: 1.856..  Validation Loss: 1.812..  Validation Accuracy: 0.379\n",
            "Epoch: 10/15..  Training Loss: 2.193..  Validation Loss: 1.734..  Validation Accuracy: 0.379\n",
            "Epoch: 10/15..  Training Loss: 1.831..  Validation Loss: 1.702..  Validation Accuracy: 0.383\n",
            "Epoch: 10/15..  Training Loss: 1.809..  Validation Loss: 1.714..  Validation Accuracy: 0.371\n",
            "Epoch: 10/15..  Training Loss: 2.164..  Validation Loss: 1.749..  Validation Accuracy: 0.400\n",
            "Epoch: 10/15..  Training Loss: 1.689..  Validation Loss: 1.795..  Validation Accuracy: 0.400\n",
            "Epoch: 10/15..  Training Loss: 1.561..  Validation Loss: 1.799..  Validation Accuracy: 0.392\n",
            "Epoch: 10/15..  Training Loss: 1.907..  Validation Loss: 1.835..  Validation Accuracy: 0.304\n",
            "Epoch: 10/15..  Training Loss: 1.822..  Validation Loss: 1.846..  Validation Accuracy: 0.308\n",
            "Epoch: 10/15..  Training Loss: 1.927..  Validation Loss: 1.867..  Validation Accuracy: 0.283\n",
            "Epoch: 10/15..  Training Loss: 2.006..  Validation Loss: 1.851..  Validation Accuracy: 0.329\n",
            "Epoch: 10/15..  Training Loss: 1.862..  Validation Loss: 1.864..  Validation Accuracy: 0.304\n",
            "Epoch: 10/15..  Training Loss: 1.867..  Validation Loss: 1.871..  Validation Accuracy: 0.283\n",
            "Epoch: 10/15..  Training Loss: 1.687..  Validation Loss: 1.860..  Validation Accuracy: 0.296\n",
            "Epoch: 10/15..  Training Loss: 1.702..  Validation Loss: 1.863..  Validation Accuracy: 0.304\n",
            "Epoch: 10/15..  Training Loss: 1.855..  Validation Loss: 1.875..  Validation Accuracy: 0.312\n",
            "Epoch: 11/15..  Training Loss: 1.796..  Validation Loss: 1.846..  Validation Accuracy: 0.350\n",
            "Epoch: 11/15..  Training Loss: 1.649..  Validation Loss: 1.877..  Validation Accuracy: 0.338\n",
            "Epoch: 11/15..  Training Loss: 1.512..  Validation Loss: 1.867..  Validation Accuracy: 0.338\n",
            "Epoch: 11/15..  Training Loss: 2.063..  Validation Loss: 1.874..  Validation Accuracy: 0.350\n",
            "Epoch: 11/15..  Training Loss: 1.713..  Validation Loss: 1.893..  Validation Accuracy: 0.342\n",
            "Epoch: 11/15..  Training Loss: 1.528..  Validation Loss: 2.011..  Validation Accuracy: 0.271\n",
            "Epoch: 11/15..  Training Loss: 1.961..  Validation Loss: 1.991..  Validation Accuracy: 0.275\n",
            "Epoch: 11/15..  Training Loss: 2.625..  Validation Loss: 1.900..  Validation Accuracy: 0.263\n",
            "Epoch: 11/15..  Training Loss: 2.100..  Validation Loss: 1.847..  Validation Accuracy: 0.325\n",
            "Epoch: 11/15..  Training Loss: 1.949..  Validation Loss: 1.798..  Validation Accuracy: 0.338\n",
            "Epoch: 11/15..  Training Loss: 1.852..  Validation Loss: 1.820..  Validation Accuracy: 0.325\n",
            "Epoch: 11/15..  Training Loss: 1.661..  Validation Loss: 1.808..  Validation Accuracy: 0.296\n",
            "Epoch: 11/15..  Training Loss: 1.782..  Validation Loss: 1.800..  Validation Accuracy: 0.338\n",
            "Epoch: 11/15..  Training Loss: 1.709..  Validation Loss: 1.828..  Validation Accuracy: 0.367\n",
            "Epoch: 11/15..  Training Loss: 1.807..  Validation Loss: 1.792..  Validation Accuracy: 0.383\n",
            "Epoch: 11/15..  Training Loss: 1.672..  Validation Loss: 1.803..  Validation Accuracy: 0.358\n",
            "Epoch: 11/15..  Training Loss: 1.714..  Validation Loss: 1.794..  Validation Accuracy: 0.396\n",
            "Epoch: 11/15..  Training Loss: 1.986..  Validation Loss: 1.810..  Validation Accuracy: 0.333\n",
            "Epoch: 11/15..  Training Loss: 1.914..  Validation Loss: 1.801..  Validation Accuracy: 0.346\n",
            "Epoch: 11/15..  Training Loss: 1.935..  Validation Loss: 1.792..  Validation Accuracy: 0.358\n",
            "Epoch: 12/15..  Training Loss: 1.679..  Validation Loss: 1.782..  Validation Accuracy: 0.371\n",
            "Epoch: 12/15..  Training Loss: 1.926..  Validation Loss: 1.802..  Validation Accuracy: 0.333\n",
            "Epoch: 12/15..  Training Loss: 1.691..  Validation Loss: 1.762..  Validation Accuracy: 0.404\n",
            "Epoch: 12/15..  Training Loss: 1.992..  Validation Loss: 1.764..  Validation Accuracy: 0.358\n",
            "Epoch: 12/15..  Training Loss: 1.737..  Validation Loss: 1.763..  Validation Accuracy: 0.346\n",
            "Epoch: 12/15..  Training Loss: 1.919..  Validation Loss: 1.759..  Validation Accuracy: 0.304\n",
            "Epoch: 12/15..  Training Loss: 1.832..  Validation Loss: 1.756..  Validation Accuracy: 0.325\n",
            "Epoch: 12/15..  Training Loss: 1.655..  Validation Loss: 1.736..  Validation Accuracy: 0.338\n",
            "Epoch: 12/15..  Training Loss: 1.508..  Validation Loss: 1.717..  Validation Accuracy: 0.371\n",
            "Epoch: 12/15..  Training Loss: 1.811..  Validation Loss: 1.686..  Validation Accuracy: 0.342\n",
            "Epoch: 12/15..  Training Loss: 1.782..  Validation Loss: 1.673..  Validation Accuracy: 0.329\n",
            "Epoch: 12/15..  Training Loss: 1.776..  Validation Loss: 1.690..  Validation Accuracy: 0.304\n",
            "Epoch: 12/15..  Training Loss: 1.627..  Validation Loss: 1.653..  Validation Accuracy: 0.350\n",
            "Epoch: 12/15..  Training Loss: 1.655..  Validation Loss: 1.682..  Validation Accuracy: 0.312\n",
            "Epoch: 12/15..  Training Loss: 1.654..  Validation Loss: 1.680..  Validation Accuracy: 0.325\n",
            "Epoch: 12/15..  Training Loss: 1.775..  Validation Loss: 1.657..  Validation Accuracy: 0.350\n",
            "Epoch: 12/15..  Training Loss: 2.015..  Validation Loss: 1.661..  Validation Accuracy: 0.350\n",
            "Epoch: 12/15..  Training Loss: 1.250..  Validation Loss: 1.668..  Validation Accuracy: 0.371\n",
            "Epoch: 12/15..  Training Loss: 1.528..  Validation Loss: 1.695..  Validation Accuracy: 0.371\n",
            "Epoch: 12/15..  Training Loss: 2.179..  Validation Loss: 1.662..  Validation Accuracy: 0.400\n",
            "Epoch: 13/15..  Training Loss: 2.151..  Validation Loss: 1.720..  Validation Accuracy: 0.354\n",
            "Epoch: 13/15..  Training Loss: 1.756..  Validation Loss: 1.726..  Validation Accuracy: 0.392\n",
            "Epoch: 13/15..  Training Loss: 1.651..  Validation Loss: 1.737..  Validation Accuracy: 0.338\n",
            "Epoch: 13/15..  Training Loss: 1.649..  Validation Loss: 1.704..  Validation Accuracy: 0.371\n",
            "Epoch: 13/15..  Training Loss: 1.738..  Validation Loss: 1.679..  Validation Accuracy: 0.358\n",
            "Epoch: 13/15..  Training Loss: 1.790..  Validation Loss: 1.622..  Validation Accuracy: 0.425\n",
            "Epoch: 13/15..  Training Loss: 1.342..  Validation Loss: 1.650..  Validation Accuracy: 0.463\n",
            "Epoch: 13/15..  Training Loss: 1.899..  Validation Loss: 1.639..  Validation Accuracy: 0.463\n",
            "Epoch: 13/15..  Training Loss: 1.611..  Validation Loss: 1.651..  Validation Accuracy: 0.442\n",
            "Epoch: 13/15..  Training Loss: 1.851..  Validation Loss: 1.648..  Validation Accuracy: 0.421\n",
            "Epoch: 13/15..  Training Loss: 1.795..  Validation Loss: 1.616..  Validation Accuracy: 0.433\n",
            "Epoch: 13/15..  Training Loss: 1.423..  Validation Loss: 1.612..  Validation Accuracy: 0.433\n",
            "Epoch: 13/15..  Training Loss: 1.599..  Validation Loss: 1.616..  Validation Accuracy: 0.400\n",
            "Epoch: 13/15..  Training Loss: 1.580..  Validation Loss: 1.560..  Validation Accuracy: 0.412\n",
            "Epoch: 13/15..  Training Loss: 1.642..  Validation Loss: 1.576..  Validation Accuracy: 0.375\n",
            "Epoch: 13/15..  Training Loss: 1.432..  Validation Loss: 1.556..  Validation Accuracy: 0.388\n",
            "Epoch: 13/15..  Training Loss: 1.533..  Validation Loss: 1.515..  Validation Accuracy: 0.388\n",
            "Epoch: 13/15..  Training Loss: 2.241..  Validation Loss: 1.529..  Validation Accuracy: 0.421\n",
            "Epoch: 13/15..  Training Loss: 1.699..  Validation Loss: 1.534..  Validation Accuracy: 0.454\n",
            "Epoch: 13/15..  Training Loss: 0.746..  Validation Loss: 1.540..  Validation Accuracy: 0.433\n",
            "Epoch: 14/15..  Training Loss: 1.547..  Validation Loss: 1.631..  Validation Accuracy: 0.379\n",
            "Epoch: 14/15..  Training Loss: 2.041..  Validation Loss: 1.633..  Validation Accuracy: 0.392\n",
            "Epoch: 14/15..  Training Loss: 1.872..  Validation Loss: 1.657..  Validation Accuracy: 0.388\n",
            "Epoch: 14/15..  Training Loss: 1.279..  Validation Loss: 1.718..  Validation Accuracy: 0.367\n",
            "Epoch: 14/15..  Training Loss: 1.573..  Validation Loss: 1.721..  Validation Accuracy: 0.367\n",
            "Epoch: 14/15..  Training Loss: 1.229..  Validation Loss: 1.723..  Validation Accuracy: 0.421\n",
            "Epoch: 14/15..  Training Loss: 2.071..  Validation Loss: 1.691..  Validation Accuracy: 0.408\n",
            "Epoch: 14/15..  Training Loss: 1.505..  Validation Loss: 1.628..  Validation Accuracy: 0.400\n",
            "Epoch: 14/15..  Training Loss: 1.675..  Validation Loss: 1.576..  Validation Accuracy: 0.379\n",
            "Epoch: 14/15..  Training Loss: 1.650..  Validation Loss: 1.558..  Validation Accuracy: 0.388\n",
            "Epoch: 14/15..  Training Loss: 1.532..  Validation Loss: 1.500..  Validation Accuracy: 0.433\n",
            "Epoch: 14/15..  Training Loss: 1.516..  Validation Loss: 1.473..  Validation Accuracy: 0.446\n",
            "Epoch: 14/15..  Training Loss: 1.637..  Validation Loss: 1.513..  Validation Accuracy: 0.367\n",
            "Epoch: 14/15..  Training Loss: 1.636..  Validation Loss: 1.479..  Validation Accuracy: 0.379\n",
            "Epoch: 14/15..  Training Loss: 1.266..  Validation Loss: 1.491..  Validation Accuracy: 0.392\n",
            "Epoch: 14/15..  Training Loss: 1.764..  Validation Loss: 1.496..  Validation Accuracy: 0.371\n",
            "Epoch: 14/15..  Training Loss: 1.627..  Validation Loss: 1.494..  Validation Accuracy: 0.379\n",
            "Epoch: 14/15..  Training Loss: 1.636..  Validation Loss: 1.517..  Validation Accuracy: 0.367\n",
            "Epoch: 14/15..  Training Loss: 1.355..  Validation Loss: 1.503..  Validation Accuracy: 0.400\n",
            "Epoch: 14/15..  Training Loss: 1.214..  Validation Loss: 1.474..  Validation Accuracy: 0.412\n",
            "Epoch: 15/15..  Training Loss: 1.007..  Validation Loss: 1.494..  Validation Accuracy: 0.400\n",
            "Epoch: 15/15..  Training Loss: 1.266..  Validation Loss: 1.504..  Validation Accuracy: 0.388\n",
            "Epoch: 15/15..  Training Loss: 2.054..  Validation Loss: 1.470..  Validation Accuracy: 0.454\n",
            "Epoch: 15/15..  Training Loss: 1.444..  Validation Loss: 1.471..  Validation Accuracy: 0.475\n",
            "Epoch: 15/15..  Training Loss: 1.398..  Validation Loss: 1.484..  Validation Accuracy: 0.454\n",
            "Epoch: 15/15..  Training Loss: 1.385..  Validation Loss: 1.501..  Validation Accuracy: 0.433\n",
            "Epoch: 15/15..  Training Loss: 1.074..  Validation Loss: 1.550..  Validation Accuracy: 0.467\n",
            "Epoch: 15/15..  Training Loss: 1.036..  Validation Loss: 1.686..  Validation Accuracy: 0.442\n",
            "Epoch: 15/15..  Training Loss: 1.530..  Validation Loss: 1.807..  Validation Accuracy: 0.400\n",
            "Epoch: 15/15..  Training Loss: 1.977..  Validation Loss: 1.758..  Validation Accuracy: 0.433\n",
            "Epoch: 15/15..  Training Loss: 1.797..  Validation Loss: 1.894..  Validation Accuracy: 0.463\n",
            "Epoch: 15/15..  Training Loss: 1.365..  Validation Loss: 1.885..  Validation Accuracy: 0.471\n",
            "Epoch: 15/15..  Training Loss: 1.704..  Validation Loss: 1.768..  Validation Accuracy: 0.421\n",
            "Epoch: 15/15..  Training Loss: 1.634..  Validation Loss: 1.719..  Validation Accuracy: 0.400\n",
            "Epoch: 15/15..  Training Loss: 2.921..  Validation Loss: 1.619..  Validation Accuracy: 0.392\n",
            "Epoch: 15/15..  Training Loss: 1.393..  Validation Loss: 1.640..  Validation Accuracy: 0.338\n",
            "Epoch: 15/15..  Training Loss: 1.774..  Validation Loss: 1.685..  Validation Accuracy: 0.338\n",
            "Epoch: 15/15..  Training Loss: 1.359..  Validation Loss: 1.711..  Validation Accuracy: 0.325\n",
            "Epoch: 15/15..  Training Loss: 2.158..  Validation Loss: 1.731..  Validation Accuracy: 0.338\n",
            "Epoch: 15/15..  Training Loss: 1.999..  Validation Loss: 1.773..  Validation Accuracy: 0.333\n"
          ]
        }
      ]
    },
    {
      "cell_type": "markdown",
      "source": [
        "#### Validation on Test Set"
      ],
      "metadata": {
        "id": "rpL0AzGbpoMS"
      }
    },
    {
      "cell_type": "code",
      "source": [
        "def test_accuracy(model, test_loader):\n",
        "\n",
        "    model.eval()\n",
        "    model.to(device)\n",
        "    with torch.no_grad():\n",
        "        accuracy = 0\n",
        "        for images, labels in iter(test_loader):\n",
        "            images, labels = images.to(device), labels.to(device)\n",
        "            output = model.forward(images)\n",
        "            probabilities = torch.exp(output)\n",
        "            equality = (labels.data == probabilities.max(dim=1)[1])\n",
        "            accuracy += equality.type(torch.FloatTensor).mean()\n",
        "        print(\"Test Accuracy: {}\".format(accuracy/len(valid_loader)))    \n",
        "        \n",
        "        \n",
        "test_accuracy(model, test_loader)"
      ],
      "metadata": {
        "id": "dvsdfcnsoZKT",
        "colab": {
          "base_uri": "https://localhost:8080/",
          "height": 201
        },
        "outputId": "a13c7470-2ff8-4d83-fb55-d5839ccae4dd"
      },
      "execution_count": null,
      "outputs": [
        {
          "output_type": "error",
          "ename": "NameError",
          "evalue": "ignored",
          "traceback": [
            "\u001b[0;31m---------------------------------------------------------------------------\u001b[0m",
            "\u001b[0;31mNameError\u001b[0m                                 Traceback (most recent call last)",
            "\u001b[0;32m<ipython-input-1-c93fc56195b9>\u001b[0m in \u001b[0;36m<module>\u001b[0;34m()\u001b[0m\n\u001b[1;32m     14\u001b[0m \u001b[0;34m\u001b[0m\u001b[0m\n\u001b[1;32m     15\u001b[0m \u001b[0;34m\u001b[0m\u001b[0m\n\u001b[0;32m---> 16\u001b[0;31m \u001b[0mtest_accuracy\u001b[0m\u001b[0;34m(\u001b[0m\u001b[0mmodel\u001b[0m\u001b[0;34m,\u001b[0m \u001b[0mtest_loader\u001b[0m\u001b[0;34m)\u001b[0m\u001b[0;34m\u001b[0m\u001b[0;34m\u001b[0m\u001b[0m\n\u001b[0m",
            "\u001b[0;31mNameError\u001b[0m: name 'model' is not defined"
          ]
        }
      ]
    },
    {
      "cell_type": "markdown",
      "source": [
        "#### Saving the Trained Model"
      ],
      "metadata": {
        "id": "KH-o4h1VqcAv"
      }
    },
    {
      "cell_type": "code",
      "source": [
        "def save_checkpoint(model):\n",
        "\n",
        "    model.class_to_idx = training_dataset.class_to_idx\n",
        "\n",
        "    checkpoint = {'arch': \"vgg16\",\n",
        "                  'class_to_idx': model.class_to_idx,\n",
        "                  'model_state_dict': model.state_dict()\n",
        "                 }\n",
        "\n",
        "    torch.save(checkpoint, 'checkpoint.pth')\n",
        "    \n",
        "save_checkpoint(model)    "
      ],
      "metadata": {
        "id": "S--Eofl8qf6Q"
      },
      "execution_count": null,
      "outputs": []
    }
  ]
}